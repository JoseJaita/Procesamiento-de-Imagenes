{
 "cells": [
  {
   "cell_type": "code",
   "execution_count": 1,
   "metadata": {
    "collapsed": true
   },
   "outputs": [],
   "source": [
    "import cv2\n",
    "import numpy as np"
   ]
  },
  {
   "cell_type": "code",
   "execution_count": 2,
   "metadata": {
    "collapsed": true
   },
   "outputs": [],
   "source": [
    "image = cv2.imread('117.jpg')\n",
    "output = image.copy()\n",
    "gray = cv2.cvtColor(image, cv2.COLOR_BGR2GRAY)\n",
    "_,binary = cv2.threshold(gray, 0, 255, cv2.THRESH_BINARY+cv2.THRESH_OTSU)"
   ]
  },
  {
   "cell_type": "code",
   "execution_count": 6,
   "metadata": {},
   "outputs": [
    {
     "name": "stdout",
     "output_type": "stream",
     "text": [
      "ningun circulo\n"
     ]
    }
   ],
   "source": [
    "circles = cv2.HoughCircles(binary, cv2.HOUGH_GRADIENT, 1, 20, param2=100)\n",
    "\n",
    "cv2.namedWindow('o',0)\n",
    "cv2.namedWindow('b',0)\n",
    "# ensure at least some circles were found\n",
    "if circles is not None:\n",
    "    # convert the (x, y) coordinates and radius of the circles to integers\n",
    "    circles = np.round(circles[0, :]).astype(\"int\")\n",
    " \n",
    "    # loop over the (x, y) coordinates and radius of the circles\n",
    "    for (x, y, r) in circles:\n",
    "        # draw the circle in the output image, then draw a rectangle\n",
    "        # corresponding to the center of the circle\n",
    "        cv2.circle(output, (x, y), r, (0, 255, 0), 4)\n",
    "        cv2.rectangle(output, (x - 5, y - 5), (x + 5, y + 5), (0, 128, 255), -1)\n",
    " \n",
    "    # show the output image\n",
    "    #cv2.imshow('o', np.hstack([binary, output]))\n",
    "    cv2.imshow('o',output)\n",
    "else:\n",
    "    print'ningun circulo'\n",
    "cv2.imshow('b',binary)\n",
    "cv2.waitKey(0)\n",
    "cv2.destroyAllWindows()"
   ]
  },
  {
   "cell_type": "code",
   "execution_count": 2,
   "metadata": {
    "collapsed": true
   },
   "outputs": [],
   "source": [
    "img1 = cv2.imread('56.jpg')\n",
    "img2 = cv2.imread('57.jpg')\n",
    "gray1 = cv2.cvtColor(img1, cv2.COLOR_BGR2GRAY)\n",
    "gray2 = cv2.cvtColor(img2, cv2.COLOR_BGR2GRAY)"
   ]
  },
  {
   "cell_type": "code",
   "execution_count": 3,
   "metadata": {},
   "outputs": [
    {
     "data": {
      "text/plain": [
       "True"
      ]
     },
     "execution_count": 3,
     "metadata": {},
     "output_type": "execute_result"
    }
   ],
   "source": [
    "parche1 = gray1[232:740,791:1375]\n",
    "parche2 = gray2[232:740,791:1375]\n",
    "t,binary1 = cv2.threshold(parche1, 0, 255, cv2.THRESH_BINARY+cv2.THRESH_OTSU)\n",
    "_,binary2 = cv2.threshold(parche2, t, 255, cv2.THRESH_BINARY)\n",
    "\n",
    "cv2.namedWindow('56',0)\n",
    "cv2.imshow('56',np.hstack([binary1-binary2, binary1, binary2]))\n",
    "cv2.waitKey(0)\n",
    "cv2.destroyAllWindows()\n",
    "\n",
    "cv2.imwrite('56.jpg',parche1)\n",
    "cv2.imwrite('57.jpg',parche2)"
   ]
  },
  {
   "cell_type": "code",
   "execution_count": 3,
   "metadata": {},
   "outputs": [
    {
     "name": "stdout",
     "output_type": "stream",
     "text": [
      "0.992649495602 (134, 10)\n",
      "0.999312162399 (11, 9)\n"
     ]
    }
   ],
   "source": [
    "img_rgb = cv2.imread('sample2.jpg')\n",
    "img_gray = cv2.cvtColor(img_rgb, cv2.COLOR_BGR2GRAY)\n",
    "template = cv2.imread('t3.jpg',0)\n",
    "\n",
    "#_, img_gray = cv2.threshold(img_gray, 168, 255, cv2.THRESH_BINARY)\n",
    "#_,template = cv2.threshold(template, 168, 255, cv2.THRESH_BINARY)\n",
    "\n",
    "\n",
    "w, h = template.shape[::-1]\n",
    "\n",
    "res = cv2.matchTemplate(img_gray,template,cv2.TM_CCOEFF_NORMED)\n",
    "threshold = 0.8\n",
    "loc = np.where( res >= threshold)\n",
    "#for pt in zip(*loc[::-1]):\n",
    " #   cv2.rectangle(img_rgb, pt, (pt[0] + w, pt[1] + h), (0,0,255), 2)\n",
    "\n",
    "# ya tengo el map de valores del template matching\n",
    "\n",
    "_,res_1 = cv2.threshold(res, 0.8, 1.0, cv2.THRESH_BINARY)\n",
    "res_1 = np.array(res_1*255, np.uint8)\n",
    "_, contours,_ = cv2.findContours(res_1, cv2.RETR_TREE, cv2.CHAIN_APPROX_SIMPLE)\n",
    "rr = []\n",
    "for cnt in contours:\n",
    "    x,y,w,h = cv2.boundingRect(cnt)\n",
    "    #  ahora en la imagen del mapping busquemos los maximos\n",
    "    _,v,_,p =cv2.minMaxLoc(res[y:y+h,x:x+w])\n",
    "    p = (p[0]+x,p[1]+y)\n",
    "    print v, p\n",
    "    '''\n",
    "    rect = cv2.minAreaRect(cnt)\n",
    "    box = cv2.boxPoints(rect)\n",
    "    box = np.int0(box)\n",
    "    suma = [p[0]+p[1] for p in box]\n",
    "    idx_min = suma.index(min(suma))\n",
    "    idx_max = suma.index(max(suma))\n",
    "    x1,y1 = box[idx_min][0], box[idx_min][1]\n",
    "    x2,y2 = box[idx_max][0], box[idx_max][0]\n",
    "    #  ahora en la imagen del mapping busquemos los maximos\n",
    "    _,v,_,p =cv2.minMaxLoc(res[y1:y2,x1:x2])\n",
    "    p = (p[0]+x1,p[1]+y1)\n",
    "    print v, p\n",
    "    '''\n",
    "\n",
    "cv2.imshow('bin',res_1)\n",
    "cv2.imshow('tmp',template)\n",
    "cv2.imshow('res',img_rgb)\n",
    "cv2.waitKey(0)\n",
    "cv2.destroyAllWindows()"
   ]
  },
  {
   "cell_type": "code",
   "execution_count": 65,
   "metadata": {},
   "outputs": [],
   "source": [
    "suma = [p[0]+p[1] for p in box]\n"
   ]
  },
  {
   "cell_type": "code",
   "execution_count": 21,
   "metadata": {},
   "outputs": [
    {
     "data": {
      "text/plain": [
       "(-0.1245398074388504, 0.999312162399292, (41, 17), (11, 9))"
      ]
     },
     "execution_count": 21,
     "metadata": {},
     "output_type": "execute_result"
    }
   ],
   "source": [
    "cv2.minMaxLoc(res)\n"
   ]
  },
  {
   "cell_type": "code",
   "execution_count": null,
   "metadata": {
    "collapsed": true
   },
   "outputs": [],
   "source": []
  },
  {
   "cell_type": "code",
   "execution_count": 2,
   "metadata": {},
   "outputs": [
    {
     "name": "stdout",
     "output_type": "stream",
     "text": [
      "1\n",
      "2\n",
      "3\n",
      "4\n",
      "5\n",
      "6\n",
      "7\n",
      "8\n",
      "9\n",
      "10\n",
      "11\n",
      "12\n",
      "13\n",
      "14\n",
      "15\n",
      "16\n",
      "17\n",
      "18\n",
      "19\n",
      "20\n",
      "21\n",
      "22\n",
      "23\n",
      "24\n",
      "25\n",
      "26\n",
      "27\n",
      "28\n",
      "29\n",
      "30\n",
      "31\n",
      "32\n",
      "33\n",
      "34\n",
      "35\n",
      "36\n",
      "37\n",
      "38\n",
      "39\n",
      "40\n",
      "41\n",
      "42\n",
      "43\n",
      "44\n",
      "45\n",
      "46\n",
      "47\n",
      "48\n",
      "49\n",
      "50\n",
      "51\n",
      "52\n",
      "53\n",
      "54\n",
      "55\n",
      "56\n",
      "57\n",
      "58\n",
      "59\n",
      "60\n",
      "61\n",
      "62\n",
      "63\n",
      "64\n",
      "65\n",
      "66\n",
      "67\n",
      "68\n",
      "69\n",
      "70\n",
      "71\n",
      "72\n",
      "73\n",
      "74\n",
      "75\n",
      "76\n",
      "77\n",
      "78\n",
      "79\n",
      "80\n",
      "81\n",
      "82\n",
      "83\n",
      "84\n",
      "85\n",
      "86\n",
      "87\n",
      "88\n",
      "89\n",
      "90\n",
      "91\n",
      "92\n",
      "93\n",
      "94\n",
      "95\n",
      "96\n",
      "97\n",
      "98\n",
      "99\n",
      "100\n",
      "101\n",
      "102\n",
      "103\n",
      "104\n",
      "105\n",
      "106\n",
      "107\n",
      "108\n",
      "109\n",
      "110\n",
      "111\n",
      "112\n",
      "113\n",
      "114\n",
      "115\n",
      "116\n",
      "117\n",
      "118\n",
      "119\n",
      "120\n"
     ]
    }
   ],
   "source": [
    "cap = cv2.VideoCapture('Kinect2_rgb.avi')\n",
    "template = cv2.imread('t3.jpg',0)\n",
    "area = 5203.5\n",
    "threshold = 50\n",
    "row = 240#271\n",
    "col = 0\n",
    "flag = True\n",
    "i = 0\n",
    "cv2.namedWindow('image',0)\n",
    "cv2.namedWindow('sample',0)\n",
    "cv2.namedWindow('aux',0)\n",
    "while(True):\n",
    "    ret, frame = cap.read()\n",
    "    if ret== False: break\n",
    "    \n",
    "    gray = cv2.cvtColor(frame, cv2.COLOR_BGR2GRAY)\n",
    "    \n",
    "    w, h = template.shape[::-1]\n",
    "    \n",
    "    res = cv2.matchTemplate(gray,template,cv2.TM_CCOEFF_NORMED)\n",
    "    #_,gray_b = cv2.threshold(gray, threshold, 255, cv2.THRESH_BINARY)\n",
    "    #_,template_b = cv2.threshold(template, threshold, 255, cv2.THRESH_BINARY)\n",
    "    #res = cv2.matchTemplate(gray_b,template_b,cv2.TM_CCOEFF_NORMED)\n",
    "    \n",
    "    #for pt in zip(*loc[::-1]):\n",
    "     #   cv2.rectangle(frame, pt, (pt[0] + w, pt[1] + h), (0,0,255), 2)\n",
    "        #template = gray[pt[1]:pt[1]+h, pt[0]:pt[0]+w]\n",
    "    \n",
    "    _,res_1 = cv2.threshold(res, 0.6, 1.0, cv2.THRESH_BINARY)\n",
    "    res_1 = np.array(res_1*255, np.uint8)\n",
    "    _, contours,_ = cv2.findContours(res_1, cv2.RETR_TREE, cv2.CHAIN_APPROX_SIMPLE)\n",
    "    rr = []\n",
    "    values = []\n",
    "    for cnt in contours:\n",
    "        x,y,w_,h_ = cv2.boundingRect(cnt)\n",
    "        #  ahora en la imagen del mapping busquemos los maximos\n",
    "        _,val,_,p =cv2.minMaxLoc(res[y:y+h_,x:x+w_])\n",
    "        p = (p[0]+x,p[1]+y)\n",
    "        rr.append(p)\n",
    "        values.append(val)\n",
    "        \n",
    "\n",
    "    #actualizar el template\n",
    "    if len(rr)>0: # comprobar si es que en el frame actual hubo matching\n",
    "        x,y = rr[0]\n",
    "        pad = int(0.07*max(w,h))\n",
    "        #TODO:falta comprobar limites\n",
    "        xi, yi = x-pad, y-pad\n",
    "        tmp_pad = gray[y-pad:y+h+pad , x-pad:x+w+pad]\n",
    "        tmp_pad_rgb = frame[y-pad:y+h+pad , x-pad:x+w+pad]\n",
    "        \n",
    "        # binarizar, find contours, and agrandar\n",
    "        ret, img_b = cv2.threshold(tmp_pad, 0, 255, cv2.THRESH_BINARY_INV+cv2.THRESH_OTSU)\n",
    "        threshold = ret\n",
    "        \n",
    "        _, contours,_ = cv2.findContours(img_b, cv2.RETR_TREE, cv2.CHAIN_APPROX_SIMPLE)\n",
    "        \n",
    "        cv2.drawContours(tmp_pad_rgb,contours,-1,(0,255,0),1)\n",
    "        for cnt in contours:\n",
    "            x_,y_,w_,h_ = cv2.boundingRect(cnt)\n",
    "            cv2.rectangle(tmp_pad_rgb,(x_,y_),(x_+w_,y_+h_),(255,0,0),1)\n",
    "        #cv2.imshow('aux', img_b)\n",
    "        \n",
    "        # escoger cual contorno pertenece al anillo-por diferencia con el anterior area\n",
    "        areas_diff = []\n",
    "        aaa = []\n",
    "        for cnt in contours:\n",
    "            #areas_diff.append(abs(cv2.contourArea(cnt) - area))\n",
    "            #aaa.append(cv2.contourArea(cnt))\n",
    "            x_,y_,w_,h_ = cv2.boundingRect(cnt)\n",
    "            areas_diff.append(abs(w_*h_ - area))\n",
    "            aaa.append(w_*h_)\n",
    "            \n",
    "        index = areas_diff.index(min(areas_diff))\n",
    "        \n",
    "        #print(area, aaa)\n",
    "        \n",
    "        # ahora veamos si este contorno pertecence al anillo\n",
    "        #new_area = cv2.contourArea(contours[index])\n",
    "        x_,y_,w_,h_ = cv2.boundingRect(contours[index])\n",
    "        new_area = w_*h_\n",
    "        porcentaje = abs(100-new_area*100.0/area)\n",
    "        #print('%',porcentaje)\n",
    "        \n",
    "        if porcentaje < 50.0:\n",
    "            area = new_area\n",
    "            cnt = contours[index]\n",
    "            x,y,w_,h_ = cv2.boundingRect(cnt)\n",
    "            #print ('w, h',w_,h_)\n",
    "            pad = int(max(w_,h_)*0.07)\n",
    "            xf1,yf1 = xi+x-pad, yi+y-pad\n",
    "            xf2,yf2 = xi+x+w_+pad, yi+y+h_+pad\n",
    "            #print xf1,yf1\n",
    "            #print xf2,yf2\n",
    "            template = gray[yf1:yf2 , xf1:xf2]\n",
    "        else:\n",
    "            print 'desboradamiento'\n",
    "\n",
    "    \n",
    "    # generar nuevo template para la propagacion\n",
    "    #encontrar el matching con el menos valor\n",
    "    if len(values)>0:\n",
    "        idx_v = values.index((min(values)))\n",
    "        x,y = rr[idx_v]\n",
    "        w_, h_ = template.shape[::-1]\n",
    "        template2 = gray[y:y+h_ , x:x+w_]\n",
    "        res2 = cv2.matchTemplate(gray,template2,cv2.TM_CCOEFF_NORMED)\n",
    "        \n",
    "        _,res2_1 = cv2.threshold(res2, 0.6, 1.0, cv2.THRESH_BINARY)\n",
    "        res2_1 = np.array(res2_1*255, np.uint8)\n",
    "        _, contours2,_ = cv2.findContours(res2_1, cv2.RETR_TREE, cv2.CHAIN_APPROX_SIMPLE)\n",
    "        rr2 = []\n",
    "        values2 = []\n",
    "        for cnt in contours2:\n",
    "            x,y,w_,h_ = cv2.boundingRect(cnt)\n",
    "            #  ahora en la imagen del mapping busquemos los maximos\n",
    "            _,val,_,p =cv2.minMaxLoc(res2[y:y+h_,x:x+w_])\n",
    "            p = (p[0]+x,p[1]+y)\n",
    "            rr2.append(p)\n",
    "    \n",
    "    #print(len(rr))\n",
    "    #print(rr)\n",
    "    for pt in rr:\n",
    "        cv2.rectangle(frame, pt, (pt[0] + w, pt[1] + h), (0,0,255), 2)\n",
    "    for pt in rr2:\n",
    "        cv2.rectangle(frame, pt, (pt[0] + w, pt[1] + h), (0,255,0), 2)\n",
    "\n",
    "    \n",
    "    cv2.imshow('image',frame)\n",
    "    cv2.imshow('sample',res2)\n",
    "    cv2.imshow('aux', template)\n",
    "    \n",
    "    if cv2.waitKey(0) == 27:\n",
    "        break\n",
    "    #cv2.imwrite(str(i)+'.jpg', gray)\n",
    "    i += 1\n",
    "    print i\n",
    "\n",
    "cap.release()\n",
    "cv2.destroyAllWindows()"
   ]
  },
  {
   "cell_type": "code",
   "execution_count": 3,
   "metadata": {},
   "outputs": [
    {
     "name": "stdout",
     "output_type": "stream",
     "text": [
      "2 2\n",
      "92 92\n"
     ]
    }
   ],
   "source": [
    "tmp = cv2.imread('t3.jpg')\n",
    "tmp_gray = cv2.cvtColor(tmp, cv2.COLOR_BGR2GRAY)\n",
    "ret, img_b = cv2.threshold(tmp_gray, 0, 255, cv2.THRESH_BINARY_INV+cv2.THRESH_OTSU)\n",
    "_, contours,_ = cv2.findContours(img_b, cv2.RETR_TREE, cv2.CHAIN_APPROX_SIMPLE)\n",
    "cnt = contours[0]\n",
    "rect = cv2.minAreaRect(cnt)\n",
    "box = cv2.boxPoints(rect)\n",
    "box = np.int0(box)\n",
    "suma = [p[0]+p[1] for p in box]\n",
    "idx_min = suma.index(min(suma))\n",
    "idx_max = suma.index(max(suma))\n",
    "x1,y1 = box[idx_min][0], box[idx_min][1]\n",
    "x2,y2 = box[idx_max][0], box[idx_max][0]\n",
    "#  ahora en la imagen del mapping busquemos los maximos\n",
    "#_,v,_,p =cv2.minMaxLoc(res[y1:y2,x1:x2])\n",
    "dx,dy = abs(x1-x2), abs(y1-y2)\n",
    "if dx>dy: pad = int(0.07*dx)\n",
    "else: pad = int(0.07*dy)\n",
    "x1 -= pad\n",
    "y1 -= pad\n",
    "x2 += pad\n",
    "y2 += pad\n",
    "print x1,y1\n",
    "print x2,y2\n",
    "\n",
    "\n",
    "cv2.drawContours(tmp,contours,-1,(0,0,255),1)\n",
    "\n",
    "cv2.imshow('img',tmp)\n",
    "cv2.imshow('asa',img_b)\n",
    "cv2.waitKey(0)\n",
    "cv2.destroyAllWindows()"
   ]
  },
  {
   "cell_type": "code",
   "execution_count": 3,
   "metadata": {},
   "outputs": [
    {
     "name": "stdout",
     "output_type": "stream",
     "text": [
      "5203.5\n",
      "1411.0\n"
     ]
    }
   ],
   "source": [
    "tmp_pad_rgb = cv2.imread('t3.jpg')\n",
    "tmp_pad = cv2.cvtColor(tmp_pad_rgb, cv2.COLOR_BGR2GRAY)\n",
    "ret, img_b = cv2.threshold(tmp_pad, 0, 255, cv2.THRESH_BINARY_INV+cv2.THRESH_OTSU)\n",
    "_, contours,_ = cv2.findContours(img_b, cv2.RETR_TREE, cv2.CHAIN_APPROX_SIMPLE)\n",
    "for cnt in contours:\n",
    "#cnt = contours[0]\n",
    "    x,y,w,h = cv2.boundingRect(cnt)\n",
    "    cv2.rectangle(tmp_pad_rgb,(x,y),(x+w,y+h),(0,255,0),2)\n",
    "    \n",
    "    area = cv2.contourArea(cnt)\n",
    "    print area\n",
    "    '''\n",
    "    rect = cv2.minAreaRect(cnt)\n",
    "    box = cv2.boxPoints(rect)\n",
    "    box = np.int0(box)\n",
    "    suma = [p[0]+p[1] for p in box]\n",
    "    idx_min = suma.index(min(suma))\n",
    "    idx_max = suma.index(max(suma))\n",
    "    x1,y1 = box[idx_min][0], box[idx_min][1]\n",
    "    x2,y2 = box[idx_max][0], box[idx_max][0]\n",
    "\n",
    "    print x1, y1\n",
    "    print x2,y2\n",
    "    '''\n",
    "\n",
    "cv2.imshow('asa',tmp_pad_rgb)\n",
    "cv2.waitKey(0)\n",
    "cv2.destroyAllWindows()"
   ]
  },
  {
   "cell_type": "code",
   "execution_count": 8,
   "metadata": {},
   "outputs": [
    {
     "data": {
      "text/plain": [
       "5"
      ]
     },
     "execution_count": 8,
     "metadata": {},
     "output_type": "execute_result"
    }
   ],
   "source": [
    "l=[5,8,9]\n",
    "min(l)"
   ]
  },
  {
   "cell_type": "code",
   "execution_count": null,
   "metadata": {
    "collapsed": true
   },
   "outputs": [],
   "source": []
  }
 ],
 "metadata": {
  "kernelspec": {
   "display_name": "Python 2",
   "language": "python",
   "name": "python2"
  },
  "language_info": {
   "codemirror_mode": {
    "name": "ipython",
    "version": 2
   },
   "file_extension": ".py",
   "mimetype": "text/x-python",
   "name": "python",
   "nbconvert_exporter": "python",
   "pygments_lexer": "ipython2",
   "version": "2.7.12"
  }
 },
 "nbformat": 4,
 "nbformat_minor": 2
}
