{
 "cells": [
  {
   "cell_type": "code",
   "execution_count": 1,
   "metadata": {},
   "outputs": [
    {
     "name": "stdout",
     "output_type": "stream",
     "text": [
      "Using matplotlib backend: TkAgg\n"
     ]
    }
   ],
   "source": [
    "import cv2\n",
    "import numpy as np\n",
    "import matplotlib.pyplot as plt\n",
    "%matplotlib \n",
    "%run functions.py"
   ]
  },
  {
   "cell_type": "code",
   "execution_count": 2,
   "metadata": {
    "collapsed": true
   },
   "outputs": [],
   "source": [
    "def show(img):\n",
    "    cv2.imshow('img',img)\n",
    "    cv2.waitKey(0)\n",
    "    cv2.destroyAllWindows()\n",
    "\n",
    "def draw(row,img):\n",
    "    img_copy = img.copy()\n",
    "    cv2.line(img_copy,(0,row),(img_copy.shape[1]-1,row),(255,0,0),1)\n",
    "    show(img_copy)\n",
    "    \n",
    "def draw_lines(img):\n",
    "    img_ = img.copy()\n",
    "    h,w = img.shape\n",
    "    p = 8;\n",
    "    rate = int(h/p)\n",
    "    answer = []\n",
    "    for r in range(p):\n",
    "        cv2.line(img_,(0,r*rate),(img_.shape[1]-1,r*rate),(255,0,0),1)\n",
    "        answer.append(r*rate)\n",
    "    show(img_)\n",
    "    return answer\n",
    "    \n",
    "def process_(lista):\n",
    "    result = []\n",
    "\n",
    "    for i in range(len(lista)):\n",
    "        val = 0\n",
    "        '''\n",
    "        if i == len(lista)-4:\n",
    "            val = (lista[i]+lista[i+1]+lista[i+2]+lista[i+3])/4\n",
    "        elif i == len(lista)-3:\n",
    "            val = (lista[i]+lista[i+1]+lista[i+2])/3\n",
    "        '''\n",
    "        if i == len(lista)-2:\n",
    "            val = (int(lista[i])+int(lista[i+1]))/2\n",
    "        elif i == len(lista)-1:\n",
    "            val = int(lista[i])\n",
    "        else:\n",
    "            val = (int(lista[i])+int(lista[i+1])+int(lista[i+2]))/3\n",
    "            #if i == 0:\n",
    "             #   print(lista[i]+lista[i+1]+lista[i+2])\n",
    "        result.append(val)\n",
    "\n",
    "    return result\n"
   ]
  },
  {
   "cell_type": "code",
   "execution_count": 3,
   "metadata": {
    "collapsed": true
   },
   "outputs": [],
   "source": [
    "img = cv2.imread('anillos.png')\n",
    "img_gray = cv2.cvtColor(img,cv2.COLOR_BGR2GRAY)\n",
    "img_bin = cv2.threshold(img_gray, 100, 255, cv2.THRESH_BINARY)[1]"
   ]
  },
  {
   "cell_type": "code",
   "execution_count": null,
   "metadata": {
    "collapsed": true
   },
   "outputs": [],
   "source": []
  },
  {
   "cell_type": "code",
   "execution_count": 4,
   "metadata": {
    "collapsed": true
   },
   "outputs": [],
   "source": [
    "cap = cv2.VideoCapture('PadronAnillos_01.avi')\n",
    " \n",
    "if (cap.isOpened()== False): \n",
    "    print(\"Error opening video stream or file\")"
   ]
  },
  {
   "cell_type": "code",
   "execution_count": 5,
   "metadata": {
    "collapsed": true
   },
   "outputs": [],
   "source": [
    "show(img_bin)"
   ]
  },
  {
   "cell_type": "code",
   "execution_count": 6,
   "metadata": {
    "collapsed": true
   },
   "outputs": [],
   "source": [
    "y = img_gray[92]\n",
    "x = [i for i in range(y.shape[0])]"
   ]
  },
  {
   "cell_type": "code",
   "execution_count": 7,
   "metadata": {},
   "outputs": [
    {
     "data": {
      "text/plain": [
       "[<matplotlib.lines.Line2D at 0x7f1de4053450>,\n",
       " <matplotlib.lines.Line2D at 0x7f1dec044f10>]"
      ]
     },
     "execution_count": 7,
     "metadata": {},
     "output_type": "execute_result"
    }
   ],
   "source": [
    "plt.plot(x,y,'ro',x,y,'k')"
   ]
  },
  {
   "cell_type": "code",
   "execution_count": 8,
   "metadata": {
    "scrolled": true
   },
   "outputs": [
    {
     "data": {
      "text/plain": [
       "[<matplotlib.lines.Line2D at 0x7f1dd8040510>,\n",
       " <matplotlib.lines.Line2D at 0x7f1dd8040610>]"
      ]
     },
     "execution_count": 8,
     "metadata": {},
     "output_type": "execute_result"
    }
   ],
   "source": [
    "y2 =img_gray[337]\n",
    "plt.plot(x,y2,'ro',x,y2,'k')"
   ]
  },
  {
   "cell_type": "code",
   "execution_count": 7,
   "metadata": {
    "collapsed": true
   },
   "outputs": [],
   "source": [
    "ret, frame = cap.read()"
   ]
  },
  {
   "cell_type": "code",
   "execution_count": 8,
   "metadata": {
    "collapsed": true
   },
   "outputs": [],
   "source": [
    "frame_gray = cv2.cvtColor(frame,cv2.COLOR_BGR2GRAY)\n",
    "thresh = 100\n",
    "frame_bin = cv2.threshold(frame_gray, thresh, 255, cv2.THRESH_BINARY)[1]"
   ]
  },
  {
   "cell_type": "code",
   "execution_count": 9,
   "metadata": {},
   "outputs": [
    {
     "name": "stdout",
     "output_type": "stream",
     "text": [
      "[0, 90, 180, 270, 360, 450, 540, 630]\n"
     ]
    },
    {
     "data": {
      "text/plain": [
       "[<matplotlib.lines.Line2D at 0x7ff8500769d0>,\n",
       " <matplotlib.lines.Line2D at 0x7ff868047b90>]"
      ]
     },
     "execution_count": 9,
     "metadata": {},
     "output_type": "execute_result"
    }
   ],
   "source": [
    "#draw(220, frame_gray)\n",
    "#%matplotlib inline\n",
    "rows = draw_lines(frame_gray)\n",
    "x = [i for i in range(frame_gray.shape[1])]\n",
    "\n",
    "y = frame_gray[rows[1]]\n",
    "print rows\n",
    "plt.plot(x,y,'ro',x,y,'k')\n"
   ]
  },
  {
   "cell_type": "code",
   "execution_count": 11,
   "metadata": {},
   "outputs": [
    {
     "data": {
      "text/plain": [
       "[<matplotlib.lines.Line2D at 0x7ff848c82dd0>,\n",
       " <matplotlib.lines.Line2D at 0x7ff848c82ed0>]"
      ]
     },
     "execution_count": 11,
     "metadata": {},
     "output_type": "execute_result"
    }
   ],
   "source": [
    "y = frame_gray[rows[4]]\n",
    "plt.plot(x,y,'ro',x,y,'k')"
   ]
  },
  {
   "cell_type": "code",
   "execution_count": 28,
   "metadata": {},
   "outputs": [
    {
     "data": {
      "text/plain": [
       "[<matplotlib.lines.Line2D at 0x7fe9eaeb9210>,\n",
       " <matplotlib.lines.Line2D at 0x7fe9eaeb9310>]"
      ]
     },
     "execution_count": 28,
     "metadata": {},
     "output_type": "execute_result"
    }
   ],
   "source": [
    "#%matplotlib \n",
    "y = frame_bin[rows[5]]\n",
    "plt.plot(x,y,'ro',x,y,'k')"
   ]
  },
  {
   "cell_type": "code",
   "execution_count": 37,
   "metadata": {
    "scrolled": true
   },
   "outputs": [
    {
     "name": "stdout",
     "output_type": "stream",
     "text": [
      "Using matplotlib backend: TkAgg\n"
     ]
    },
    {
     "data": {
      "text/plain": [
       "[<matplotlib.lines.Line2D at 0x7fe9eacc6710>,\n",
       " <matplotlib.lines.Line2D at 0x7fe9eacc6dd0>]"
      ]
     },
     "execution_count": 37,
     "metadata": {},
     "output_type": "execute_result"
    }
   ],
   "source": [
    "%matplotlib\n",
    "y_ = y.tolist()\n",
    "\n",
    "media = process_(y_)\n",
    "media5 = process5(y_)\n",
    "final = [abs(y_[i]-media[i]) for i in range(len(y_))]\n",
    "final5 = [abs(y_[i]-media5[i]) for i in range(len(y_))]\n",
    "\n",
    "plt.plot(x,frame_bin[rows[3]],'k')\n",
    "plt.plot(x,final,'b--')\n",
    "plt.plot(x,final5,'ro',x,final5,'r--')"
   ]
  },
  {
   "cell_type": "code",
   "execution_count": 12,
   "metadata": {
    "collapsed": true
   },
   "outputs": [],
   "source": [
    "# ya tenemos la señal ahora encontrar las frecuencias\n",
    "def frecuencias(signal):\n",
    "    points = []\n",
    "    for i in range(len(signal)-1):\n",
    "        s,ns = signal[i], signal[i+1]\n",
    "        if s == 255 and ns == 0:\n",
    "            points.append(i)\n",
    "    \n",
    "    answer = []\n",
    "    for i in range(len(points)-1):\n",
    "        answer.append(points[i+1]-points[i])\n",
    "    return answer, points\n",
    "\n",
    "# comprobemos que ondas se parecen\n",
    "def match_signals(fcs):\n",
    "    fcs.append(0)\n",
    "    match = 0\n",
    "    answer = []\n",
    "    for i in range(len(fcs)-1):\n",
    "        f1, f2 = fcs[i], fcs[i+1]\n",
    "        fm = (f1+f2)/2\n",
    "        if abs(f1-fm) < 0.2*f1:\n",
    "            match += 1\n",
    "        else:\n",
    "            # comprobar si en el pasado hay una secuencia se ondas parecidas\n",
    "            # asumimos por lo menos 3 patrones reconocidos\n",
    "            if match > 2:\n",
    "                answer.append((i-match, i))\n",
    "            match = 0\n",
    "    return answer\n",
    "\n",
    "# encontrar flanco de bajada blanco->negro\n",
    "def find_edge(lista):\n",
    "    for i in range(len(lista)-1):\n",
    "        a, n = lista[i], lista[i+1]\n",
    "        if a == 255 and n == 0:\n",
    "            return i\n",
    "    return -1\n",
    "# encontrar que row contiene la columna con el primer flanco de bajada blanco->negro\n",
    "def find_row_with_min(img, row, col):\n",
    "    pad = 3 # vamos a comenzar tres px antes\n",
    "    min_r = row\n",
    "    flag = 0\n",
    "    # buscamos abajo maximo 10 rows\n",
    "    for i in range(50):\n",
    "        px1, px2 = img[min_r][col], img[min_r][col+1]\n",
    "        px1_, px2_ = img[min_r+1][col], img[min_r+1][col+1]\n",
    "        d1 = abs(int(px1)-int(px1_))\n",
    "        d2 = abs(int(px2_)-int(px2))\n",
    "\n",
    "        if d2 == 255:\n",
    "            flag += 1\n",
    "            break\n",
    "        if d1 == 0: # significa que para esos 2 pxs las dos rows son iguales\n",
    "            min_r += 1\n",
    "        else:       # tenemos que seguir bajando\n",
    "            flag += 1\n",
    "            min_r += 1\n",
    "            # encontrar el px blanco\n",
    "            while(img[min_r][col] == 0):\n",
    "                col -= 1\n",
    "            \n",
    "    # si no encontro abajo entonces buscamos arriba\n",
    "    # flag==1:tenemos que subir , flag>1 ya se encontro el la row \n",
    "    if flag == 1:\n",
    "        min_r = row\n",
    "        for i in range(50):\n",
    "            px1, px2 = img[min_r][col], img[min_r][col+1]\n",
    "            px1_, px2_ = img[min_r-1][col], img[min_r-1][col+1]\n",
    "            d1 = abs(int(px1)-int(px1_))\n",
    "            d2 = abs(int(px2)-int(px2_))\n",
    "            if d2 == 255:\n",
    "                break\n",
    "            if d1 == 0: # significa que para esos 2 pxs las dos rows son iguales\n",
    "                min_r -= 1\n",
    "            else:       # tenemos que seguir bajando\n",
    "                min_r -= 1\n",
    "                # encontrar el px blanco\n",
    "                while(img[min_r][col] == 0):\n",
    "                    col -= 1\n",
    "     \n",
    "    return min_r, col\n",
    "    \n",
    "def new_col_in_new_frame(img, row, col):\n",
    "    px = img[row][col]\n",
    "    if px == 0: # caso 1\n",
    "        while(img[row][col] == 0):\n",
    "            col -= 1\n",
    "    else: # caso 2\n",
    "        while(img[row][col+1]==255):\n",
    "            col += 1\n",
    "    return col"
   ]
  },
  {
   "cell_type": "code",
   "execution_count": 14,
   "metadata": {},
   "outputs": [
    {
     "name": "stdout",
     "output_type": "stream",
     "text": [
      "285 376\n",
      "\n"
     ]
    }
   ],
   "source": [
    "sample = frame_bin[rows[3]]\n",
    "#sample = img_bin[271]\n",
    "fcs, points = frecuencias(sample)\n",
    "m_s = match_signals(fcs)\n",
    "index = m_s[0][0]\n",
    "col = points[index]\n",
    "r, c = find_row_with_min(frame_bin, rows[3], col)\n",
    "\n",
    "print r,c\n",
    "print\n",
    "\n",
    "#new_c = new_col_in_new_frame(frame2_bin, r, c)\n",
    "#r, c = find_row_with_min(frame2_bin, r, new_c)\n",
    "#print r,c"
   ]
  },
  {
   "cell_type": "code",
   "execution_count": 2,
   "metadata": {},
   "outputs": [
    {
     "name": "stdout",
     "output_type": "stream",
     "text": [
      "0 240 0\n",
      "1 240 0\n",
      "2 240 0\n",
      "3 240 0\n",
      "4 240 0\n",
      "5 240 0\n",
      "6 240 0\n",
      "7 240 0\n",
      "8 240 0\n",
      "9 240 0\n",
      "10 240 0\n",
      "11 240 0\n",
      "12 240 0\n",
      "13 240 0\n",
      "14 240 0\n",
      "15 240 0\n",
      "16 240 0\n",
      "17 240 0\n",
      "18 240 0\n",
      "19 240 0\n",
      "20 240 0\n",
      "21 240 0\n",
      "22 240 0\n",
      "23 240 0\n",
      "24 240 0\n",
      "25 240 0\n",
      "26 240 0\n",
      "27 240 0\n",
      "28 240 0\n",
      "29 240 0\n",
      "30 240 0\n",
      "31 240 0\n",
      "32 240 0\n",
      "33 240 0\n",
      "34 240 0\n",
      "35 240 0\n",
      "36 240 0\n",
      "37 240 0\n",
      "38 240 0\n",
      "39 240 0\n",
      "40 240 0\n",
      "41 240 0\n",
      "42 240 0\n",
      "43 240 0\n",
      "44 240 0\n",
      "45 240 0\n",
      "46 240 0\n",
      "47 240 0\n",
      "48 240 0\n",
      "49 240 0\n",
      "50 240 0\n",
      "51 240 0\n",
      "52 240 0\n",
      "53 240 0\n",
      "54 240 0\n",
      "55 240 0\n",
      "56 240 0\n",
      "57 240 0\n",
      "58 240 0\n",
      "59 240 0\n",
      "60 240 0\n",
      "61 240 0\n",
      "62 240 0\n",
      "63 240 0\n",
      "64 240 0\n",
      "65 240 0\n",
      "66 240 0\n",
      "67 240 0\n",
      "68 240 0\n",
      "69 240 0\n",
      "70 240 0\n",
      "71 240 0\n",
      "72 240 0\n",
      "73 240 0\n",
      "74 240 0\n",
      "75 240 0\n",
      "76 240 0\n",
      "77 240 0\n",
      "78 240 0\n",
      "79 240 0\n",
      "80 240 0\n",
      "81 240 0\n",
      "82 240 0\n",
      "83 240 0\n",
      "84 240 0\n",
      "85 240 0\n",
      "86 240 0\n",
      "87 240 0\n",
      "88 240 0\n",
      "89 240 0\n",
      "90 240 0\n",
      "91 240 0\n",
      "92 240 0\n",
      "93 240 0\n",
      "94 240 0\n",
      "95 240 0\n",
      "96 240 0\n",
      "97 240 0\n",
      "98 240 0\n",
      "99 240 0\n",
      "100 240 0\n",
      "101 240 0\n",
      "102 240 0\n",
      "103 240 0\n",
      "104 240 0\n",
      "105 240 0\n",
      "106 240 0\n",
      "107 240 0\n",
      "108 240 0\n",
      "109 240 0\n",
      "110 240 0\n",
      "111 240 0\n",
      "112 240 0\n",
      "113 240 0\n",
      "114 240 0\n",
      "115 240 0\n",
      "116 240 0\n",
      "117 240 0\n",
      "118 240 0\n",
      "119 240 0\n",
      "120 240 0\n",
      "121 240 0\n",
      "122 240 0\n",
      "123 240 0\n",
      "124 240 0\n",
      "125 240 0\n",
      "126 240 0\n",
      "127 240 0\n",
      "128 240 0\n",
      "129 240 0\n",
      "130 240 0\n",
      "131 240 0\n",
      "132 240 0\n",
      "133 240 0\n",
      "134 240 0\n",
      "135 240 0\n",
      "136 240 0\n",
      "137 240 0\n",
      "138 240 0\n",
      "139 240 0\n",
      "140 240 0\n",
      "141 240 0\n",
      "142 240 0\n",
      "143 240 0\n",
      "144 240 0\n",
      "145 240 0\n",
      "146 240 0\n",
      "147 240 0\n",
      "148 240 0\n",
      "149 240 0\n",
      "150 240 0\n",
      "151 240 0\n",
      "152 240 0\n",
      "153 240 0\n",
      "154 240 0\n",
      "155 240 0\n",
      "156 240 0\n",
      "157 240 0\n",
      "158 240 0\n",
      "159 240 0\n",
      "160 240 0\n",
      "161 240 0\n",
      "162 240 0\n",
      "163 240 0\n",
      "164 240 0\n",
      "165 240 0\n",
      "166 240 0\n",
      "167 240 0\n",
      "168 240 0\n",
      "169 240 0\n",
      "170 240 0\n",
      "171 240 0\n",
      "172 240 0\n",
      "173 240 0\n",
      "174 240 0\n",
      "175 240 0\n",
      "176 240 0\n",
      "177 240 0\n",
      "178 240 0\n",
      "179 240 0\n",
      "180 240 0\n",
      "181 240 0\n",
      "182 240 0\n",
      "183 240 0\n",
      "184 240 0\n",
      "185 240 0\n",
      "186 240 0\n",
      "187 240 0\n"
     ]
    }
   ],
   "source": [
    "cap = cv2.VideoCapture('calibration_mslifecam.avi')\n",
    "row = 240#271\n",
    "col = 0\n",
    "flag = True\n",
    "i = 0\n",
    "cv2.namedWindow('image',0)\n",
    "cv2.namedWindow('sample',0)\n",
    "while(True):\n",
    "    # Capture frame-by-frame\n",
    "    ret, frame = cap.read()\n",
    "    if ret== False: break\n",
    "    \n",
    "    gray = cv2.cvtColor(frame, cv2.COLOR_BGR2GRAY)\n",
    "    binary = cv2.threshold(gray, 50, 255, cv2.THRESH_BINARY)[1]\n",
    "    '''\n",
    "    if flag:\n",
    "        binary = cv2.threshold(gray, 50, 255, cv2.THRESH_BINARY)[1]\n",
    "    else:\n",
    "        sub_img = gray[row:row+600, col:col+440]\n",
    "        ret, img_b = cv2.threshold(sub_img, 0, 255, cv2.THRESH_BINARY+cv2.THRESH_OTSU)\n",
    "        binary = cv2.threshold(gray, ret, 255, cv2.THRESH_BINARY)[1]\n",
    "        cv2.imshow('sample',sub_img)\n",
    "    \n",
    "    # processing first time\n",
    "    if flag:\n",
    "        antigua = gray\n",
    "        fcs, points = frecuencias(binary[row])\n",
    "        m_s = match_signals(fcs)\n",
    "        index = m_s[0][0]\n",
    "        col = points[index]\n",
    "        row, col = find_row_with_min(binary, row, col)\n",
    "        flag = False\n",
    "    \n",
    "    else:\n",
    "        new_c = new_col_in_new_frame(binary, row, col)\n",
    "        row, col = find_row_with_min(binary, row, new_c)\n",
    "    \n",
    "    cv2.line(gray,(0,row),(gray.shape[1]-1,row),(255,0,0),1)\n",
    "    cv2.line(gray,(col,0),(col,gray.shape[0]-1),(255,0,0),1)\n",
    "    '''\n",
    "    \n",
    "    cv2.imshow('image', binary)\n",
    "    \n",
    "    if cv2.waitKey(100) & 0xFF == ord('q'):\n",
    "        break\n",
    "    \n",
    "    #if (i > 220 and i< 231):\n",
    "     #   cv2.imwrite(str(i)+'.jpg', gray)\n",
    "    print i, row, col\n",
    "    antigua = gray\n",
    "    cv2.imwrite(str(i)+'.jpg', frame)\n",
    "    i += 1\n",
    "# When everything done, release the capture\n",
    "cap.release()\n",
    "cv2.destroyAllWindows()"
   ]
  },
  {
   "cell_type": "code",
   "execution_count": null,
   "metadata": {
    "collapsed": true
   },
   "outputs": [],
   "source": []
  },
  {
   "cell_type": "code",
   "execution_count": 11,
   "metadata": {},
   "outputs": [
    {
     "name": "stdout",
     "output_type": "stream",
     "text": [
      "168.0\n"
     ]
    }
   ],
   "source": [
    "img = cv2.imread('152.jpg',0)\n",
    "ret, img_b = cv2.threshold(img, 0, 255, cv2.THRESH_BINARY+cv2.THRESH_OTSU)\n",
    "print ret\n",
    "res = np.hstack((img,img_b))\n",
    "show(img_b)"
   ]
  },
  {
   "cell_type": "code",
   "execution_count": null,
   "metadata": {
    "collapsed": true
   },
   "outputs": [],
   "source": []
  },
  {
   "cell_type": "code",
   "execution_count": 50,
   "metadata": {
    "collapsed": true
   },
   "outputs": [],
   "source": [
    "img1 = cv2.imread('56.jpg',0)\n",
    "img2 = cv2.imread('57.jpg',0)\n",
    "img3 = cv2.imread('58.jpg',0)\n",
    "show(img3-img2)"
   ]
  },
  {
   "cell_type": "code",
   "execution_count": null,
   "metadata": {
    "collapsed": true
   },
   "outputs": [],
   "source": []
  },
  {
   "cell_type": "code",
   "execution_count": 9,
   "metadata": {
    "collapsed": true
   },
   "outputs": [],
   "source": [
    "cap = cv2.VideoCapture('Kinect2_rgb.avi')\n",
    "ret, frame2 = cap.read()\n",
    "draw(240,frame2[0:600])\n",
    "cap.release()"
   ]
  },
  {
   "cell_type": "code",
   "execution_count": 52,
   "metadata": {
    "collapsed": true
   },
   "outputs": [],
   "source": [
    "#show(frame_bin[0:600])\n",
    "#draw(rows[3], frame_gray)\n",
    "\n",
    "frame2_gray = cv2.cvtColor(frame2,cv2.COLOR_BGR2GRAY)\n",
    "frame2_bin = cv2.threshold(frame2_gray, thresh, 255, cv2.THRESH_BINARY)[1]\n",
    "\n",
    "cv2.imshow('img1',frame_bin[0:600])\n",
    "cv2.imshow('img2', frame2_bin[0:600])\n",
    "cv2.waitKey(0)\n",
    "cv2.destroyAllWindows()\n"
   ]
  },
  {
   "cell_type": "code",
   "execution_count": 43,
   "metadata": {},
   "outputs": [
    {
     "data": {
      "text/plain": [
       "[<matplotlib.lines.Line2D at 0x7fe9eac3a610>]"
      ]
     },
     "execution_count": 43,
     "metadata": {},
     "output_type": "execute_result"
    }
   ],
   "source": [
    "x = [i for i in range(img_bin.shape[1])]\n",
    "plt.plot(x,img_bin[204],'k')"
   ]
  },
  {
   "cell_type": "code",
   "execution_count": 19,
   "metadata": {},
   "outputs": [
    {
     "data": {
      "text/plain": [
       "<matplotlib.image.AxesImage at 0x7ff87d27f410>"
      ]
     },
     "execution_count": 19,
     "metadata": {},
     "output_type": "execute_result"
    }
   ],
   "source": [
    "# veamos en el espacio de la frecuencia\n",
    "#img = cv2.imread('anillos.png',0)\n",
    "img = frame_gray\n",
    "img_float32 = np.float32(img)\n",
    "\n",
    "dft = cv2.dft(img_float32, flags = cv2.DFT_COMPLEX_OUTPUT)\n",
    "dft_shift = np.fft.fftshift(dft)\n",
    "\n",
    "magnitude_spectrum = 20*np.log(cv2.magnitude(dft_shift[:,:,0],dft_shift[:,:,1]))\n",
    "\n",
    "plt.imshow(magnitude_spectrum, cmap = 'gray')\n",
    "#cv2.namedWindow('fft',0)\n",
    "#cv2.imshow()\n",
    "#plt.subplot(121),plt.imshow(img, cmap = 'gray')\n",
    "#plt.title('Input Image'), plt.xticks([]), plt.yticks([])\n",
    "#plt.subplot(122),plt.imshow(magnitude_spectrum, cmap = 'gray')\n",
    "#plt.title('Magnitude Spectrum'), plt.xticks([]), plt.yticks([])\n",
    "#plt.show()"
   ]
  },
  {
   "cell_type": "code",
   "execution_count": null,
   "metadata": {
    "collapsed": true
   },
   "outputs": [],
   "source": []
  },
  {
   "cell_type": "code",
   "execution_count": null,
   "metadata": {
    "collapsed": true
   },
   "outputs": [],
   "source": [
    "y = frame_gray[220]\n",
    "x = [i for i in range(y.shape[0])]\n",
    "plt.plot(x,y,'ro',x,y,'k')"
   ]
  },
  {
   "cell_type": "code",
   "execution_count": 26,
   "metadata": {
    "collapsed": true
   },
   "outputs": [],
   "source": [
    "#plt.plot(x,y,'ro',x,y,'k')"
   ]
  },
  {
   "cell_type": "code",
   "execution_count": null,
   "metadata": {
    "collapsed": true
   },
   "outputs": [],
   "source": []
  },
  {
   "cell_type": "code",
   "execution_count": 51,
   "metadata": {
    "collapsed": true
   },
   "outputs": [],
   "source": [
    "b = ([2 ,3],[4,5])"
   ]
  },
  {
   "cell_type": "code",
   "execution_count": 53,
   "metadata": {},
   "outputs": [
    {
     "data": {
      "text/plain": [
       "[2, 3]"
      ]
     },
     "execution_count": 53,
     "metadata": {},
     "output_type": "execute_result"
    }
   ],
   "source": []
  },
  {
   "cell_type": "code",
   "execution_count": null,
   "metadata": {
    "collapsed": true
   },
   "outputs": [],
   "source": []
  },
  {
   "cell_type": "code",
   "execution_count": null,
   "metadata": {
    "collapsed": true
   },
   "outputs": [],
   "source": []
  }
 ],
 "metadata": {
  "kernelspec": {
   "display_name": "Python 2",
   "language": "python",
   "name": "python2"
  },
  "language_info": {
   "codemirror_mode": {
    "name": "ipython",
    "version": 2
   },
   "file_extension": ".py",
   "mimetype": "text/x-python",
   "name": "python",
   "nbconvert_exporter": "python",
   "pygments_lexer": "ipython2",
   "version": "2.7.12"
  }
 },
 "nbformat": 4,
 "nbformat_minor": 2
}
